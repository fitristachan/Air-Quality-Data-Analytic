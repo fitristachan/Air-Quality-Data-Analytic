{
 "cells": [
  {
   "cell_type": "markdown",
   "metadata": {
    "colab_type": "text",
    "id": "view-in-github"
   },
   "source": [
    "<a href=\"https://colab.research.google.com/github/fitristachan/Air-Quality-Data-Analytic/blob/main/Air_Quality_Data_Analytic.ipynb\" target=\"_parent\"><img src=\"https://colab.research.google.com/assets/colab-badge.svg\" alt=\"Open In Colab\"/></a>"
   ]
  },
  {
   "cell_type": "markdown",
   "metadata": {
    "id": "H9wADwK78DCz"
   },
   "source": [
    "# Proyek Analisis Data: Air Quality Dataset\n",
    "- **Nama:** Fitri Sagita\n",
    "- **Email:** fitristarius@gmail.com\n",
    "- **ID Dicoding:** fitristachan"
   ]
  },
  {
   "cell_type": "markdown",
   "metadata": {
    "id": "eE0raob58DC0"
   },
   "source": [
    "## Menentukan Pertanyaan Bisnis"
   ]
  },
  {
   "cell_type": "markdown",
   "metadata": {
    "id": "GmQeQ5YF8DC0"
   },
   "source": [
    "\n",
    "- Bagaimana perkembangan parameter kualitas udara di beberapa stasiun pengukuran di Tiongkok selama periode 2013-2017?\n",
    "- Pada rentang waktu manakah (pagi, siang, sore, atau malam) rata-rata nilai parameter kualitas udara menunjukkan angka tertinggi di Tiongkok selama periode 2013-2017?"
   ]
  },
  {
   "cell_type": "markdown",
   "metadata": {
    "id": "H-z4QGlO8DC1"
   },
   "source": [
    "## Import Semua Packages/Library yang Digunakan"
   ]
  },
  {
   "cell_type": "code",
   "execution_count": 30,
   "metadata": {
    "id": "FVYwaObI8DC1"
   },
   "outputs": [],
   "source": [
    "import os\n",
    "import pandas as pd\n",
    "import numpy as np\n",
    "import geopandas\n",
    "import matplotlib.pyplot as plt\n",
    "import scipy as py\n",
    "import seaborn as sns"
   ]
  },
  {
   "cell_type": "markdown",
   "metadata": {
    "id": "h_Sh51Xy8DC1"
   },
   "source": [
    "## Data Wrangling"
   ]
  },
  {
   "cell_type": "markdown",
   "metadata": {
    "id": "sXU2GBYu8DC1"
   },
   "source": [
    "### Gathering Data"
   ]
  },
  {
   "cell_type": "markdown",
   "metadata": {},
   "source": [
    "Karena ada lebih dari satu file dataset dalam folder, maka kita looping terlebih dahulu untuk mendapatkan semua pathfile. Tujuannya agar lebih mudah. kemudian muat tiap file menggunakan .read_csv dan masukkan dataframenya ke dalam list airquality_df_list. Karena tiap tabel memiliki field yang sama dan sudah ada pembedanya di station sebagai penanda darimana data tersebut berasal, maka kita lakukan concat untuk menjadikan semua tabel jadi satu dataframe."
   ]
  },
  {
   "cell_type": "code",
   "execution_count": 31,
   "metadata": {
    "id": "zjCBk1BI8DC1"
   },
   "outputs": [
    {
     "name": "stdout",
     "output_type": "stream",
     "text": [
      "           No  year  month  day  hour  PM2.5  PM10   SO2   NO2     CO    O3  \\\n",
      "0           1  2013      3    1     0    4.0   4.0   4.0   7.0  300.0  77.0   \n",
      "1           2  2013      3    1     1    8.0   8.0   4.0   7.0  300.0  77.0   \n",
      "2           3  2013      3    1     2    7.0   7.0   5.0  10.0  300.0  73.0   \n",
      "3           4  2013      3    1     3    6.0   6.0  11.0  11.0  300.0  72.0   \n",
      "4           5  2013      3    1     4    3.0   3.0  12.0  12.0  300.0  72.0   \n",
      "...       ...   ...    ...  ...   ...    ...   ...   ...   ...    ...   ...   \n",
      "420763  35060  2017      2   28    19   11.0  32.0   3.0  24.0  400.0  72.0   \n",
      "420764  35061  2017      2   28    20   13.0  32.0   3.0  41.0  500.0  50.0   \n",
      "420765  35062  2017      2   28    21   14.0  28.0   4.0  38.0  500.0  54.0   \n",
      "420766  35063  2017      2   28    22   12.0  23.0   4.0  30.0  400.0  59.0   \n",
      "420767  35064  2017      2   28    23   13.0  19.0   4.0  38.0  600.0  49.0   \n",
      "\n",
      "        TEMP    PRES  DEWP  RAIN   wd  WSPM        station  \n",
      "0       -0.7  1023.0 -18.8   0.0  NNW   4.4   Aotizhongxin  \n",
      "1       -1.1  1023.2 -18.2   0.0    N   4.7   Aotizhongxin  \n",
      "2       -1.1  1023.5 -18.2   0.0  NNW   5.6   Aotizhongxin  \n",
      "3       -1.4  1024.5 -19.4   0.0   NW   3.1   Aotizhongxin  \n",
      "4       -2.0  1025.2 -19.5   0.0    N   2.0   Aotizhongxin  \n",
      "...      ...     ...   ...   ...  ...   ...            ...  \n",
      "420763  12.5  1013.5 -16.2   0.0   NW   2.4  Wanshouxigong  \n",
      "420764  11.6  1013.6 -15.1   0.0  WNW   0.9  Wanshouxigong  \n",
      "420765  10.8  1014.2 -13.3   0.0   NW   1.1  Wanshouxigong  \n",
      "420766  10.5  1014.4 -12.9   0.0  NNW   1.2  Wanshouxigong  \n",
      "420767   8.6  1014.1 -15.9   0.0  NNE   1.3  Wanshouxigong  \n",
      "\n",
      "[420768 rows x 18 columns]\n"
     ]
    }
   ],
   "source": [
    "\n",
    "directory = os.fsencode(\"D:\\Chase\\Certification-Submission\\Air-quality-dataset\\Air-Quality-Data-Analytic\\PRSA_Data\")\n",
    "airquality_df_list = []\n",
    "for file in os.listdir(directory):\n",
    "    filename = os.fsdecode(file)\n",
    "    if filename.endswith(\".csv\"): \n",
    "        if isinstance(directory, bytes):\n",
    "            directory = directory.decode('utf-8')\n",
    "        data_path = os.path.join(directory, filename)\n",
    "        df = pd.read_csv(data_path)\n",
    "        airquality_df_list.append(df)\n",
    "    else:\n",
    "        print(\"Gagal menngambil path file\")\n",
    "\n",
    "airquality_df = pd.concat(airquality_df_list, ignore_index=True)\n",
    "print(airquality_df)"
   ]
  },
  {
   "cell_type": "markdown",
   "metadata": {
    "id": "MMi6xGaDkbCi"
   },
   "source": [
    "**Insight:**\n",
    "- Dataset yang ada berjumlah 420768 dimulai dari index 0 - 420767\n",
    "- Temperature ada yang minus dan ada yang plus\n",
    "- Data yang ada berasal dari tahun 2013 - 2017\n",
    "- Terdapat 18 kolom, dengan 11 diantaranya merupakan hasil ukur komponen dan partikel yang biasanya menjadi indikator dalam penilaian kualitas udara\n",
    "- Semua hasil ukur bertipe data float"
   ]
  },
  {
   "cell_type": "markdown",
   "metadata": {
    "id": "FHSiqaZp8DC1"
   },
   "source": [
    "### Assessing Data"
   ]
  },
  {
   "cell_type": "markdown",
   "metadata": {},
   "source": [
    "Lihat isi air quality"
   ]
  },
  {
   "cell_type": "code",
   "execution_count": 32,
   "metadata": {
    "id": "ax-3tEjc9Cj1"
   },
   "outputs": [
    {
     "name": "stdout",
     "output_type": "stream",
     "text": [
      "<class 'pandas.core.frame.DataFrame'>\n",
      "RangeIndex: 420768 entries, 0 to 420767\n",
      "Data columns (total 18 columns):\n",
      " #   Column   Non-Null Count   Dtype  \n",
      "---  ------   --------------   -----  \n",
      " 0   No       420768 non-null  int64  \n",
      " 1   year     420768 non-null  int64  \n",
      " 2   month    420768 non-null  int64  \n",
      " 3   day      420768 non-null  int64  \n",
      " 4   hour     420768 non-null  int64  \n",
      " 5   PM2.5    412029 non-null  float64\n",
      " 6   PM10     414319 non-null  float64\n",
      " 7   SO2      411747 non-null  float64\n",
      " 8   NO2      408652 non-null  float64\n",
      " 9   CO       400067 non-null  float64\n",
      " 10  O3       407491 non-null  float64\n",
      " 11  TEMP     420370 non-null  float64\n",
      " 12  PRES     420375 non-null  float64\n",
      " 13  DEWP     420365 non-null  float64\n",
      " 14  RAIN     420378 non-null  float64\n",
      " 15  wd       418946 non-null  object \n",
      " 16  WSPM     420450 non-null  float64\n",
      " 17  station  420768 non-null  object \n",
      "dtypes: float64(11), int64(5), object(2)\n",
      "memory usage: 57.8+ MB\n"
     ]
    }
   ],
   "source": [
    "airquality_df.info()"
   ]
  },
  {
   "cell_type": "markdown",
   "metadata": {},
   "source": [
    "Lihat berapa missing value di tiap field dan mengecek ada atau tidaknya duplikasi data"
   ]
  },
  {
   "cell_type": "code",
   "execution_count": 33,
   "metadata": {},
   "outputs": [
    {
     "data": {
      "text/plain": [
       "No             0\n",
       "year           0\n",
       "month          0\n",
       "day            0\n",
       "hour           0\n",
       "PM2.5       8739\n",
       "PM10        6449\n",
       "SO2         9021\n",
       "NO2        12116\n",
       "CO         20701\n",
       "O3         13277\n",
       "TEMP         398\n",
       "PRES         393\n",
       "DEWP         403\n",
       "RAIN         390\n",
       "wd          1822\n",
       "WSPM         318\n",
       "station        0\n",
       "dtype: int64"
      ]
     },
     "execution_count": 33,
     "metadata": {},
     "output_type": "execute_result"
    }
   ],
   "source": [
    "airquality_df.isna().sum()"
   ]
  },
  {
   "cell_type": "code",
   "execution_count": 34,
   "metadata": {},
   "outputs": [
    {
     "name": "stdout",
     "output_type": "stream",
     "text": [
      "Jumlah duplikasi:  0\n"
     ]
    }
   ],
   "source": [
    "print(\"Jumlah duplikasi: \", airquality_df.duplicated().sum())"
   ]
  },
  {
   "cell_type": "markdown",
   "metadata": {},
   "source": [
    "Kode di bawah untuk melihat parameter statistik data dan karena nilai max dalam tiap indikator terlalu besar, sedangkan saya bukan expertise dalam penilaian indikator cuaca dan sumber yang ada di internet pun terbatas, sehingga saya putuskan untuk melakukan grouping nilai maks berdasarkan tiap station untuk dilihat dimanakah nilai maks itu dan apakah ada perbedaan yang sangat signifikan dibanding nilai maks pada station yang lain atau tidak."
   ]
  },
  {
   "cell_type": "code",
   "execution_count": 35,
   "metadata": {},
   "outputs": [
    {
     "data": {
      "text/html": [
       "<div>\n",
       "<style scoped>\n",
       "    .dataframe tbody tr th:only-of-type {\n",
       "        vertical-align: middle;\n",
       "    }\n",
       "\n",
       "    .dataframe tbody tr th {\n",
       "        vertical-align: top;\n",
       "    }\n",
       "\n",
       "    .dataframe thead th {\n",
       "        text-align: right;\n",
       "    }\n",
       "</style>\n",
       "<table border=\"1\" class=\"dataframe\">\n",
       "  <thead>\n",
       "    <tr style=\"text-align: right;\">\n",
       "      <th></th>\n",
       "      <th>No</th>\n",
       "      <th>year</th>\n",
       "      <th>month</th>\n",
       "      <th>day</th>\n",
       "      <th>hour</th>\n",
       "      <th>PM2.5</th>\n",
       "      <th>PM10</th>\n",
       "      <th>SO2</th>\n",
       "      <th>NO2</th>\n",
       "      <th>CO</th>\n",
       "      <th>O3</th>\n",
       "      <th>TEMP</th>\n",
       "      <th>PRES</th>\n",
       "      <th>DEWP</th>\n",
       "      <th>RAIN</th>\n",
       "      <th>WSPM</th>\n",
       "    </tr>\n",
       "  </thead>\n",
       "  <tbody>\n",
       "    <tr>\n",
       "      <th>count</th>\n",
       "      <td>420768.000000</td>\n",
       "      <td>420768.000000</td>\n",
       "      <td>420768.000000</td>\n",
       "      <td>420768.000000</td>\n",
       "      <td>420768.000000</td>\n",
       "      <td>412029.000000</td>\n",
       "      <td>414319.000000</td>\n",
       "      <td>411747.000000</td>\n",
       "      <td>408652.000000</td>\n",
       "      <td>400067.000000</td>\n",
       "      <td>407491.000000</td>\n",
       "      <td>420370.000000</td>\n",
       "      <td>420375.000000</td>\n",
       "      <td>420365.000000</td>\n",
       "      <td>420378.000000</td>\n",
       "      <td>420450.000000</td>\n",
       "    </tr>\n",
       "    <tr>\n",
       "      <th>mean</th>\n",
       "      <td>17532.500000</td>\n",
       "      <td>2014.662560</td>\n",
       "      <td>6.522930</td>\n",
       "      <td>15.729637</td>\n",
       "      <td>11.500000</td>\n",
       "      <td>79.793428</td>\n",
       "      <td>104.602618</td>\n",
       "      <td>15.830835</td>\n",
       "      <td>50.638586</td>\n",
       "      <td>1230.766454</td>\n",
       "      <td>57.372271</td>\n",
       "      <td>13.538976</td>\n",
       "      <td>1010.746982</td>\n",
       "      <td>2.490822</td>\n",
       "      <td>0.064476</td>\n",
       "      <td>1.729711</td>\n",
       "    </tr>\n",
       "    <tr>\n",
       "      <th>std</th>\n",
       "      <td>10122.116943</td>\n",
       "      <td>1.177198</td>\n",
       "      <td>3.448707</td>\n",
       "      <td>8.800102</td>\n",
       "      <td>6.922195</td>\n",
       "      <td>80.822391</td>\n",
       "      <td>91.772426</td>\n",
       "      <td>21.650603</td>\n",
       "      <td>35.127912</td>\n",
       "      <td>1160.182716</td>\n",
       "      <td>56.661607</td>\n",
       "      <td>11.436139</td>\n",
       "      <td>10.474055</td>\n",
       "      <td>13.793847</td>\n",
       "      <td>0.821004</td>\n",
       "      <td>1.246386</td>\n",
       "    </tr>\n",
       "    <tr>\n",
       "      <th>min</th>\n",
       "      <td>1.000000</td>\n",
       "      <td>2013.000000</td>\n",
       "      <td>1.000000</td>\n",
       "      <td>1.000000</td>\n",
       "      <td>0.000000</td>\n",
       "      <td>2.000000</td>\n",
       "      <td>2.000000</td>\n",
       "      <td>0.285600</td>\n",
       "      <td>1.026500</td>\n",
       "      <td>100.000000</td>\n",
       "      <td>0.214200</td>\n",
       "      <td>-19.900000</td>\n",
       "      <td>982.400000</td>\n",
       "      <td>-43.400000</td>\n",
       "      <td>0.000000</td>\n",
       "      <td>0.000000</td>\n",
       "    </tr>\n",
       "    <tr>\n",
       "      <th>25%</th>\n",
       "      <td>8766.750000</td>\n",
       "      <td>2014.000000</td>\n",
       "      <td>4.000000</td>\n",
       "      <td>8.000000</td>\n",
       "      <td>5.750000</td>\n",
       "      <td>20.000000</td>\n",
       "      <td>36.000000</td>\n",
       "      <td>3.000000</td>\n",
       "      <td>23.000000</td>\n",
       "      <td>500.000000</td>\n",
       "      <td>11.000000</td>\n",
       "      <td>3.100000</td>\n",
       "      <td>1002.300000</td>\n",
       "      <td>-8.900000</td>\n",
       "      <td>0.000000</td>\n",
       "      <td>0.900000</td>\n",
       "    </tr>\n",
       "    <tr>\n",
       "      <th>50%</th>\n",
       "      <td>17532.500000</td>\n",
       "      <td>2015.000000</td>\n",
       "      <td>7.000000</td>\n",
       "      <td>16.000000</td>\n",
       "      <td>11.500000</td>\n",
       "      <td>55.000000</td>\n",
       "      <td>82.000000</td>\n",
       "      <td>7.000000</td>\n",
       "      <td>43.000000</td>\n",
       "      <td>900.000000</td>\n",
       "      <td>45.000000</td>\n",
       "      <td>14.500000</td>\n",
       "      <td>1010.400000</td>\n",
       "      <td>3.100000</td>\n",
       "      <td>0.000000</td>\n",
       "      <td>1.400000</td>\n",
       "    </tr>\n",
       "    <tr>\n",
       "      <th>75%</th>\n",
       "      <td>26298.250000</td>\n",
       "      <td>2016.000000</td>\n",
       "      <td>10.000000</td>\n",
       "      <td>23.000000</td>\n",
       "      <td>17.250000</td>\n",
       "      <td>111.000000</td>\n",
       "      <td>145.000000</td>\n",
       "      <td>20.000000</td>\n",
       "      <td>71.000000</td>\n",
       "      <td>1500.000000</td>\n",
       "      <td>82.000000</td>\n",
       "      <td>23.300000</td>\n",
       "      <td>1019.000000</td>\n",
       "      <td>15.100000</td>\n",
       "      <td>0.000000</td>\n",
       "      <td>2.200000</td>\n",
       "    </tr>\n",
       "    <tr>\n",
       "      <th>max</th>\n",
       "      <td>35064.000000</td>\n",
       "      <td>2017.000000</td>\n",
       "      <td>12.000000</td>\n",
       "      <td>31.000000</td>\n",
       "      <td>23.000000</td>\n",
       "      <td>999.000000</td>\n",
       "      <td>999.000000</td>\n",
       "      <td>500.000000</td>\n",
       "      <td>290.000000</td>\n",
       "      <td>10000.000000</td>\n",
       "      <td>1071.000000</td>\n",
       "      <td>41.600000</td>\n",
       "      <td>1042.800000</td>\n",
       "      <td>29.100000</td>\n",
       "      <td>72.500000</td>\n",
       "      <td>13.200000</td>\n",
       "    </tr>\n",
       "  </tbody>\n",
       "</table>\n",
       "</div>"
      ],
      "text/plain": [
       "                  No           year          month            day  \\\n",
       "count  420768.000000  420768.000000  420768.000000  420768.000000   \n",
       "mean    17532.500000    2014.662560       6.522930      15.729637   \n",
       "std     10122.116943       1.177198       3.448707       8.800102   \n",
       "min         1.000000    2013.000000       1.000000       1.000000   \n",
       "25%      8766.750000    2014.000000       4.000000       8.000000   \n",
       "50%     17532.500000    2015.000000       7.000000      16.000000   \n",
       "75%     26298.250000    2016.000000      10.000000      23.000000   \n",
       "max     35064.000000    2017.000000      12.000000      31.000000   \n",
       "\n",
       "                hour          PM2.5           PM10            SO2  \\\n",
       "count  420768.000000  412029.000000  414319.000000  411747.000000   \n",
       "mean       11.500000      79.793428     104.602618      15.830835   \n",
       "std         6.922195      80.822391      91.772426      21.650603   \n",
       "min         0.000000       2.000000       2.000000       0.285600   \n",
       "25%         5.750000      20.000000      36.000000       3.000000   \n",
       "50%        11.500000      55.000000      82.000000       7.000000   \n",
       "75%        17.250000     111.000000     145.000000      20.000000   \n",
       "max        23.000000     999.000000     999.000000     500.000000   \n",
       "\n",
       "                 NO2             CO             O3           TEMP  \\\n",
       "count  408652.000000  400067.000000  407491.000000  420370.000000   \n",
       "mean       50.638586    1230.766454      57.372271      13.538976   \n",
       "std        35.127912    1160.182716      56.661607      11.436139   \n",
       "min         1.026500     100.000000       0.214200     -19.900000   \n",
       "25%        23.000000     500.000000      11.000000       3.100000   \n",
       "50%        43.000000     900.000000      45.000000      14.500000   \n",
       "75%        71.000000    1500.000000      82.000000      23.300000   \n",
       "max       290.000000   10000.000000    1071.000000      41.600000   \n",
       "\n",
       "                PRES           DEWP           RAIN           WSPM  \n",
       "count  420375.000000  420365.000000  420378.000000  420450.000000  \n",
       "mean     1010.746982       2.490822       0.064476       1.729711  \n",
       "std        10.474055      13.793847       0.821004       1.246386  \n",
       "min       982.400000     -43.400000       0.000000       0.000000  \n",
       "25%      1002.300000      -8.900000       0.000000       0.900000  \n",
       "50%      1010.400000       3.100000       0.000000       1.400000  \n",
       "75%      1019.000000      15.100000       0.000000       2.200000  \n",
       "max      1042.800000      29.100000      72.500000      13.200000  "
      ]
     },
     "execution_count": 35,
     "metadata": {},
     "output_type": "execute_result"
    }
   ],
   "source": [
    "airquality_df.describe()"
   ]
  },
  {
   "cell_type": "code",
   "execution_count": 36,
   "metadata": {},
   "outputs": [
    {
     "name": "stdout",
     "output_type": "stream",
     "text": [
      "                  No  year  month  day  hour  PM2.5   PM10    SO2    NO2  \\\n",
      "station                                                                    \n",
      "Aotizhongxin   35064  2017     12   31    23  898.0  984.0  341.0  290.0   \n",
      "Changping      35064  2017     12   31    23  882.0  999.0  310.0  226.0   \n",
      "Dingling       35064  2017     12   31    23  881.0  905.0  156.0  205.0   \n",
      "Dongsi         35064  2017     12   31    23  737.0  955.0  300.0  258.0   \n",
      "Guanyuan       35064  2017     12   31    23  680.0  999.0  293.0  270.0   \n",
      "Gucheng        35064  2017     12   31    23  770.0  994.0  500.0  276.0   \n",
      "Huairou        35064  2017     12   31    23  762.0  993.0  315.0  231.0   \n",
      "Nongzhanguan   35064  2017     12   31    23  844.0  995.0  257.0  273.0   \n",
      "Shunyi         35064  2017     12   31    23  941.0  999.0  239.0  258.0   \n",
      "Tiantan        35064  2017     12   31    23  821.0  988.0  273.0  241.0   \n",
      "Wanliu         35064  2017     12   31    23  957.0  951.0  282.0  264.0   \n",
      "Wanshouxigong  35064  2017     12   31    23  999.0  961.0  411.0  251.0   \n",
      "\n",
      "                    CO         O3  TEMP    PRES  DEWP  RAIN  WSPM  \n",
      "station                                                            \n",
      "Aotizhongxin   10000.0   423.0000  40.5  1042.0  28.5  72.5  11.2  \n",
      "Changping      10000.0   429.0000  41.4  1036.5  27.2  52.1  10.0  \n",
      "Dingling       10000.0   500.0000  41.4  1036.5  27.2  52.1  10.0  \n",
      "Dongsi         10000.0  1071.0000  41.1  1042.0  28.8  46.4  10.5  \n",
      "Guanyuan       10000.0   415.0000  40.5  1042.0  28.5  72.5  11.2  \n",
      "Gucheng        10000.0   450.0000  41.6  1038.1  27.4  41.9  12.0  \n",
      "Huairou        10000.0   444.0000  40.3  1036.5  29.1  45.9  12.9  \n",
      "Nongzhanguan   10000.0   390.0000  41.1  1042.0  28.8  46.4  10.5  \n",
      "Shunyi         10000.0   351.7164  40.6  1042.8  27.5  37.3  12.8  \n",
      "Tiantan        10000.0   674.0000  41.1  1042.0  28.8  46.4  10.5  \n",
      "Wanliu         10000.0   364.0000  40.5  1040.3  28.5  72.5  11.2  \n",
      "Wanshouxigong   9800.0   358.0000  40.6  1042.0  28.5  46.4  13.2  \n"
     ]
    }
   ],
   "source": [
    "max_per_station = airquality_df.groupby('station').max(numeric_only=True)\n",
    "print(max_per_station)"
   ]
  },
  {
   "cell_type": "markdown",
   "metadata": {
    "id": "7dtxhAPrkhPL"
   },
   "source": [
    "**Insight:**\n",
    "- Terdapat banyak missing value di PM2.5, PM10, SO2, NO2, CO, O3, TEMP, PRES, DEWP, RAIN, wd, dan WSPM\n",
    "- Tidak ada duplikasi data\n",
    "- Max Nomor tidak sesuai jumlah data sehingga perlu dilakukan penomoran ulang\n",
    "- SO2 wajar karena dari jurnal yang dirilis tahun 2020 dan berjudul \"VERIFIKASI METODE PENENTUAN KADAR SULFUR\n",
    "DIOKSIDA (SO2) DALAM UDARA AMBIEN SECARA\n",
    "SPEKTROFOTOMETRI UV-VISIBEL DI PT. KARSA BUANA\n",
    "LESTARI\" oleh DT Metia, link: https://dspace.uii.ac.id/bitstream/handle/123456789/28492/17231059%20Dinda%20Tantri%20Metia.pdf?sequence=1, nilai maksnya adalah 900\n",
    "- Dilihat dari grouping nilai max yang tidak wajar adalah nilai O3 di Dongsi\n"
   ]
  },
  {
   "cell_type": "markdown",
   "metadata": {
    "id": "EhN5R4hr8DC1"
   },
   "source": [
    "### Cleaning Data"
   ]
  },
  {
   "cell_type": "markdown",
   "metadata": {},
   "source": [
    "Mengganti nilai max dongsi yang abnormal menjadi nilai rata-rata di jam yang sama. Karena setelah dicek ditabel ada beberapa nilai max abnormal yang lebih dari 1000, maka kita tetapkan nilai abnormalnya adalah > 1000."
   ]
  },
  {
   "cell_type": "code",
   "execution_count": 37,
   "metadata": {},
   "outputs": [
    {
     "name": "stdout",
     "output_type": "stream",
     "text": [
      "                  No  year  month  day  hour  PM2.5   PM10    SO2    NO2  \\\n",
      "station                                                                    \n",
      "Aotizhongxin   35064  2017     12   31    23  898.0  984.0  341.0  290.0   \n",
      "Changping      35064  2017     12   31    23  882.0  999.0  310.0  226.0   \n",
      "Dingling       35064  2017     12   31    23  881.0  905.0  156.0  205.0   \n",
      "Dongsi         35064  2017     12   31    23  737.0  955.0  300.0  258.0   \n",
      "Guanyuan       35064  2017     12   31    23  680.0  999.0  293.0  270.0   \n",
      "Gucheng        35064  2017     12   31    23  770.0  994.0  500.0  276.0   \n",
      "Huairou        35064  2017     12   31    23  762.0  993.0  315.0  231.0   \n",
      "Nongzhanguan   35064  2017     12   31    23  844.0  995.0  257.0  273.0   \n",
      "Shunyi         35064  2017     12   31    23  941.0  999.0  239.0  258.0   \n",
      "Tiantan        35064  2017     12   31    23  821.0  988.0  273.0  241.0   \n",
      "Wanliu         35064  2017     12   31    23  957.0  951.0  282.0  264.0   \n",
      "Wanshouxigong  35064  2017     12   31    23  999.0  961.0  411.0  251.0   \n",
      "\n",
      "                    CO        O3  TEMP    PRES  DEWP  RAIN  WSPM  \n",
      "station                                                           \n",
      "Aotizhongxin   10000.0  423.0000  40.5  1042.0  28.5  72.5  11.2  \n",
      "Changping      10000.0  429.0000  41.4  1036.5  27.2  52.1  10.0  \n",
      "Dingling       10000.0  500.0000  41.4  1036.5  27.2  52.1  10.0  \n",
      "Dongsi         10000.0  500.0000  41.1  1042.0  28.8  46.4  10.5  \n",
      "Guanyuan       10000.0  415.0000  40.5  1042.0  28.5  72.5  11.2  \n",
      "Gucheng        10000.0  450.0000  41.6  1038.1  27.4  41.9  12.0  \n",
      "Huairou        10000.0  444.0000  40.3  1036.5  29.1  45.9  12.9  \n",
      "Nongzhanguan   10000.0  390.0000  41.1  1042.0  28.8  46.4  10.5  \n",
      "Shunyi         10000.0  351.7164  40.6  1042.8  27.5  37.3  12.8  \n",
      "Tiantan        10000.0  674.0000  41.1  1042.0  28.8  46.4  10.5  \n",
      "Wanliu         10000.0  364.0000  40.5  1040.3  28.5  72.5  11.2  \n",
      "Wanshouxigong   9800.0  358.0000  40.6  1042.0  28.5  46.4  13.2  \n"
     ]
    }
   ],
   "source": [
    "def replace_dongsi_abnormal(row):\n",
    "    if row['O3'] >= 1000:\n",
    "        time_data = airquality_df[(airquality_df['station'] == 'Dongsi') &\n",
    "                                (airquality_df['month'] == row['month']) & \n",
    "                                (airquality_df['day'] == row['day']) & \n",
    "                                (airquality_df['hour'] == row['hour'])]\n",
    "        dongsi_mean = time_data['O3'].mean()\n",
    "        return dongsi_mean\n",
    "    else:\n",
    "        return row['O3']\n",
    "\n",
    "airquality_df['O3'] = airquality_df.apply(replace_dongsi_abnormal, axis=1)\n",
    "\n",
    "max_per_station = airquality_df.groupby('station').max(numeric_only=True)\n",
    "print(max_per_station)"
   ]
  },
  {
   "cell_type": "markdown",
   "metadata": {},
   "source": [
    "Karena dari proses assesing diketahui banyak sekali missing value dan tidak mungkin untuk menghapus semua data yang mengandung missing value karena akan menyebabkan kualitas data menurun, maka missing value tersebut akan diganti dengan menggunakan teknik imputation. Saya menggunakan mean dari tiap group, kecuali wd. Menggunakan mean dari tiap group tujuannya agar nilai pengganti lebih akurat karena merupakan nilai rata-rata dari tiap station."
   ]
  },
  {
   "cell_type": "code",
   "execution_count": 38,
   "metadata": {
    "id": "jVnYpprE9Evz"
   },
   "outputs": [
    {
     "data": {
      "text/plain": [
       "No         0\n",
       "year       0\n",
       "month      0\n",
       "day        0\n",
       "hour       0\n",
       "PM2.5      0\n",
       "PM10       0\n",
       "SO2        0\n",
       "NO2        0\n",
       "CO         0\n",
       "O3         0\n",
       "TEMP       0\n",
       "PRES       0\n",
       "DEWP       0\n",
       "RAIN       0\n",
       "wd         0\n",
       "WSPM       0\n",
       "station    0\n",
       "dtype: int64"
      ]
     },
     "execution_count": 38,
     "metadata": {},
     "output_type": "execute_result"
    }
   ],
   "source": [
    "list_missing = ['PM2.5', 'PM10', 'SO2', 'NO2', 'CO', 'O3', 'TEMP', 'PRES', 'DEWP', 'RAIN', 'WSPM']\n",
    "for column in list_missing:\n",
    "    mean_per_column = airquality_df.groupby('station')[column].mean()\n",
    "    airquality_df[column] = airquality_df.apply(\n",
    "        lambda row: mean_per_column[row['station']] if pd.isna(row[column]) else row[column],\n",
    "        axis=1\n",
    ")\n",
    "\n",
    "modus_wd_per_station = airquality_df.groupby('station')['wd'].agg(lambda x: x.mode().iloc[0] if not x.mode().empty else None)\n",
    "airquality_df['wd'] = airquality_df.apply(\n",
    "    lambda row: modus_wd_per_station[row['station']] if pd.isna(row['wd']) else row['wd'],\n",
    "    axis=1\n",
    ")\n",
    "\n",
    "airquality_df.isna().sum()"
   ]
  },
  {
   "cell_type": "markdown",
   "metadata": {},
   "source": [
    "Mengubah kolom nomor yang masih berantakan menjadi berurutan sesuai jumlah data"
   ]
  },
  {
   "cell_type": "code",
   "execution_count": null,
   "metadata": {},
   "outputs": [
    {
     "name": "stdout",
     "output_type": "stream",
     "text": [
      "<class 'pandas.core.frame.DataFrame'>\n",
      "RangeIndex: 420768 entries, 0 to 420767\n",
      "Data columns (total 18 columns):\n",
      " #   Column   Non-Null Count   Dtype  \n",
      "---  ------   --------------   -----  \n",
      " 0   No       420768 non-null  int64  \n",
      " 1   year     420768 non-null  int64  \n",
      " 2   month    420768 non-null  int64  \n",
      " 3   day      420768 non-null  int64  \n",
      " 4   hour     420768 non-null  int64  \n",
      " 5   PM2.5    420768 non-null  float64\n",
      " 6   PM10     420768 non-null  float64\n",
      " 7   SO2      420768 non-null  float64\n",
      " 8   NO2      420768 non-null  float64\n",
      " 9   CO       420768 non-null  float64\n",
      " 10  O3       420768 non-null  float64\n",
      " 11  TEMP     420768 non-null  float64\n",
      " 12  PRES     420768 non-null  float64\n",
      " 13  DEWP     420768 non-null  float64\n",
      " 14  RAIN     420768 non-null  float64\n",
      " 15  wd       420768 non-null  object \n",
      " 16  WSPM     420768 non-null  float64\n",
      " 17  station  420768 non-null  object \n",
      "dtypes: float64(11), int64(5), object(2)\n",
      "memory usage: 57.8+ MB\n"
     ]
    }
   ],
   "source": [
    "airquality_df['No'] = airquality_df.index + 1\n",
    "airquality_df.info()"
   ]
  },
  {
   "cell_type": "markdown",
   "metadata": {
    "id": "Q_5ejIqckiSP"
   },
   "source": [
    "**Insight:**\n",
    "- Untuk mengisi missing value secara spesifik, di kolom berapa, tidak dapat menggunakan fungsi .fillna. Sehingga saya menggunakan apply, karena datanya tidak mau terisi jika menggunakan .fillna.\n",
    "- Untuk menemukan modus secara spesifik dari kolom tertentu dengan grouping stasiun juga tidak dapat menggunakan .mode secara langsung dan harus menggunakan aggregate dengan fungsi yang dimau didalamnya.\n",
    "- Dilakukan replace data abnormal terlebih dahulu baru mengisi missing value karena data abnormal yang ada dapat memengaruhi pengisian missing value dikarenakan nilai valuenya terlalu besar sehingga dapat membuat nilai mean yang dicari membesar, sehingga diketahui urutan cleaning data harus didasarkan pada kebutuhan data\n",
    "- Missing value dan data abnormal tidak dihapus dengan pertimbangan pertanyaan yang ingin dijawab berhubungan erat dengan waktu yang ada sehingga jika dihapus maka dapat menyebabkan hilangnya nilai di waktu tertentu yang menyebabkan ketidakakuratan hasil."
   ]
  },
  {
   "cell_type": "markdown",
   "metadata": {
    "id": "gp-Y6wU38DC1"
   },
   "source": [
    "## Exploratory Data Analysis (EDA)"
   ]
  },
  {
   "cell_type": "markdown",
   "metadata": {
    "id": "MW7WF2kr8DC1"
   },
   "source": [
    "### Explore ..."
   ]
  },
  {
   "cell_type": "code",
   "execution_count": null,
   "metadata": {
    "id": "e9CQCZjk8DC2"
   },
   "outputs": [],
   "source": []
  },
  {
   "cell_type": "markdown",
   "metadata": {
    "id": "th_Lzl2Fkj9O"
   },
   "source": [
    "**Insight:**\n",
    "- xxx\n",
    "- xxx"
   ]
  },
  {
   "cell_type": "markdown",
   "metadata": {
    "id": "zsyZjqak8DC2"
   },
   "source": [
    "## Visualization & Explanatory Analysis"
   ]
  },
  {
   "cell_type": "markdown",
   "metadata": {
    "id": "HZxOiQ6n8DC2"
   },
   "source": [
    "### Pertanyaan 1:"
   ]
  },
  {
   "cell_type": "code",
   "execution_count": null,
   "metadata": {
    "id": "1swJUdAD8DC2"
   },
   "outputs": [],
   "source": []
  },
  {
   "cell_type": "markdown",
   "metadata": {
    "id": "DgHI7CiU8DC2"
   },
   "source": [
    "### Pertanyaan 2:"
   ]
  },
  {
   "cell_type": "code",
   "execution_count": null,
   "metadata": {
    "id": "Go0lCsvO8DC2"
   },
   "outputs": [],
   "source": []
  },
  {
   "cell_type": "markdown",
   "metadata": {
    "id": "_0-36BDLklRg"
   },
   "source": [
    "**Insight:**\n",
    "- xxx\n",
    "- xxx"
   ]
  },
  {
   "cell_type": "markdown",
   "metadata": {
    "id": "9y4VUsmcYNZ5"
   },
   "source": [
    "## Analisis Lanjutan (Opsional)"
   ]
  },
  {
   "cell_type": "code",
   "execution_count": null,
   "metadata": {
    "id": "iWhnzsJGYUCO"
   },
   "outputs": [],
   "source": []
  },
  {
   "cell_type": "markdown",
   "metadata": {
    "id": "_WeHlCeX8DC2"
   },
   "source": [
    "## Conclusion"
   ]
  },
  {
   "cell_type": "markdown",
   "metadata": {
    "id": "ZTcyR48Y8DC2"
   },
   "source": [
    "- Conclution pertanyaan 1\n",
    "- Conclution pertanyaan 2"
   ]
  }
 ],
 "metadata": {
  "colab": {
   "include_colab_link": true,
   "provenance": []
  },
  "kernelspec": {
   "display_name": "Python 3",
   "language": "python",
   "name": "python3"
  },
  "language_info": {
   "codemirror_mode": {
    "name": "ipython",
    "version": 3
   },
   "file_extension": ".py",
   "mimetype": "text/x-python",
   "name": "python",
   "nbconvert_exporter": "python",
   "pygments_lexer": "ipython3",
   "version": "3.11.9"
  },
  "orig_nbformat": 4,
  "vscode": {
   "interpreter": {
    "hash": "972b3bf27e332e87b5379f2791f6ef9dfc79c71018c370b0d7423235e20fe4d7"
   }
  }
 },
 "nbformat": 4,
 "nbformat_minor": 0
}
